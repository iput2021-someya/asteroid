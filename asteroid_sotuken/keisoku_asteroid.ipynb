{
 "cells": [
  {
   "cell_type": "code",
   "execution_count": 4,
   "metadata": {},
   "outputs": [
    {
     "ename": "ImportError",
     "evalue": "cannot import name 'read_audio' from 'asteroid.utils' (c:\\Users\\sui\\AppData\\Local\\Programs\\Python\\Python311\\Lib\\site-packages\\asteroid\\utils\\__init__.py)",
     "output_type": "error",
     "traceback": [
      "\u001b[1;31m---------------------------------------------------------------------------\u001b[0m",
      "\u001b[1;31mImportError\u001b[0m                               Traceback (most recent call last)",
      "Cell \u001b[1;32mIn[4], line 3\u001b[0m\n\u001b[0;32m      1\u001b[0m \u001b[38;5;28;01mimport\u001b[39;00m \u001b[38;5;21;01mtorch\u001b[39;00m\n\u001b[0;32m      2\u001b[0m \u001b[38;5;28;01mfrom\u001b[39;00m \u001b[38;5;21;01masteroid\u001b[39;00m \u001b[38;5;28;01mimport\u001b[39;00m DPTNet\n\u001b[1;32m----> 3\u001b[0m \u001b[38;5;28;01mfrom\u001b[39;00m \u001b[38;5;21;01masteroid\u001b[39;00m\u001b[38;5;21;01m.\u001b[39;00m\u001b[38;5;21;01mutils\u001b[39;00m \u001b[38;5;28;01mimport\u001b[39;00m read_audio, write_audio\n\u001b[0;32m      5\u001b[0m \u001b[38;5;66;03m# モデルを読み込む（事前学習済みモデルを使用）\u001b[39;00m\n\u001b[0;32m      6\u001b[0m \u001b[38;5;66;03m# ここでは、4人分の音声を分離する設定にします\u001b[39;00m\n\u001b[0;32m      7\u001b[0m model \u001b[38;5;241m=\u001b[39m DPTNet\u001b[38;5;241m.\u001b[39mfrom_pretrained(\u001b[38;5;124m\"\u001b[39m\u001b[38;5;124mmpariente/dptnet-4s\u001b[39m\u001b[38;5;124m\"\u001b[39m)\n",
      "\u001b[1;31mImportError\u001b[0m: cannot import name 'read_audio' from 'asteroid.utils' (c:\\Users\\sui\\AppData\\Local\\Programs\\Python\\Python311\\Lib\\site-packages\\asteroid\\utils\\__init__.py)"
     ]
    }
   ],
   "source": [
    "import torch\n",
    "from asteroid import DPTNet\n",
    "from asteroid.utils import read_audio, write_audio\n",
    "\n",
    "# モデルを読み込む（事前学習済みモデルを使用）\n",
    "# ここでは、4人分の音声を分離する設定にします\n",
    "model = DPTNet.from_pretrained(\"mpariente/dptnet-4s\")\n",
    "\n",
    "# 音声ファイルを読み込む\n",
    "input_file = \"10min_0823.wav\"\n",
    "audio, sr = read_audio(input_file)\n",
    "\n",
    "# 音声分離を実行\n",
    "with torch.no_grad():\n",
    "    est_sources = model(audio.unsqueeze(0))\n",
    "\n",
    "# 分離した音声を保存\n",
    "for i, source in enumerate(est_sources):\n",
    "    output_file = f\"output_source_{i+1}.wav\"\n",
    "    write_audio(output_file, source.squeeze().cpu(), sr)\n",
    "\n",
    "print(\"音声を4つに分離しました\")\n"
   ]
  },
  {
   "cell_type": "code",
   "execution_count": null,
   "metadata": {},
   "outputs": [],
   "source": [
    "import librosa\n",
    "\n",
    "def calculate_speech_duration(audio_file):\n",
    "    # 音声データを読み込む\n",
    "    audio, sr = librosa.load(audio_file, sr=None)\n",
    "\n",
    "    # 無音区間を検出\n",
    "    non_silent_intervals = librosa.effects.split(audio, top_db=30)\n",
    "\n",
    "    # 発話時間の合計を計算\n",
    "    total_speech_duration = sum([end - start for start, end in non_silent_intervals]) / sr\n",
    "    return total_speech_duration\n",
    "\n",
    "# それぞれの音源の発話時間を計測\n",
    "for i in range(4):\n",
    "    audio_file = f\"output_source_{i+1}.wav\"\n",
    "    speech_duration = calculate_speech_duration(audio_file)\n",
    "    print(f\"音源 {i+1} の発話時間: {speech_duration:.2f} 秒\")\n"
   ]
  }
 ],
 "metadata": {
  "kernelspec": {
   "display_name": "Python 3",
   "language": "python",
   "name": "python3"
  },
  "language_info": {
   "codemirror_mode": {
    "name": "ipython",
    "version": 3
   },
   "file_extension": ".py",
   "mimetype": "text/x-python",
   "name": "python",
   "nbconvert_exporter": "python",
   "pygments_lexer": "ipython3",
   "version": "3.11.3"
  }
 },
 "nbformat": 4,
 "nbformat_minor": 2
}
